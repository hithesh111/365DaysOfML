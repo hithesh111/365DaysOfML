{
 "cells": [
  {
   "cell_type": "code",
   "execution_count": 1,
   "id": "cef4fd5c",
   "metadata": {},
   "outputs": [],
   "source": [
    "import pandas as pd\n",
    "import numpy as np\n",
    "import matplotlib.pyplot as plt"
   ]
  },
  {
   "cell_type": "markdown",
   "id": "89c926b3",
   "metadata": {},
   "source": [
    "### Create a dataframe with certain dependence and some random error"
   ]
  },
  {
   "cell_type": "code",
   "execution_count": 2,
   "id": "7374c9a0",
   "metadata": {},
   "outputs": [
    {
     "data": {
      "text/html": [
       "<div>\n",
       "<style scoped>\n",
       "    .dataframe tbody tr th:only-of-type {\n",
       "        vertical-align: middle;\n",
       "    }\n",
       "\n",
       "    .dataframe tbody tr th {\n",
       "        vertical-align: top;\n",
       "    }\n",
       "\n",
       "    .dataframe thead th {\n",
       "        text-align: right;\n",
       "    }\n",
       "</style>\n",
       "<table border=\"1\" class=\"dataframe\">\n",
       "  <thead>\n",
       "    <tr style=\"text-align: right;\">\n",
       "      <th></th>\n",
       "      <th>x_col1</th>\n",
       "      <th>x_col2</th>\n",
       "      <th>x_col3</th>\n",
       "      <th>y_col</th>\n",
       "    </tr>\n",
       "  </thead>\n",
       "  <tbody>\n",
       "    <tr>\n",
       "      <th>0</th>\n",
       "      <td>31</td>\n",
       "      <td>0</td>\n",
       "      <td>49</td>\n",
       "      <td>16.0</td>\n",
       "    </tr>\n",
       "    <tr>\n",
       "      <th>1</th>\n",
       "      <td>33</td>\n",
       "      <td>6</td>\n",
       "      <td>32</td>\n",
       "      <td>85.0</td>\n",
       "    </tr>\n",
       "    <tr>\n",
       "      <th>2</th>\n",
       "      <td>50</td>\n",
       "      <td>37</td>\n",
       "      <td>47</td>\n",
       "      <td>188.0</td>\n",
       "    </tr>\n",
       "    <tr>\n",
       "      <th>3</th>\n",
       "      <td>30</td>\n",
       "      <td>38</td>\n",
       "      <td>36</td>\n",
       "      <td>125.0</td>\n",
       "    </tr>\n",
       "    <tr>\n",
       "      <th>4</th>\n",
       "      <td>26</td>\n",
       "      <td>2</td>\n",
       "      <td>4</td>\n",
       "      <td>129.0</td>\n",
       "    </tr>\n",
       "    <tr>\n",
       "      <th>...</th>\n",
       "      <td>...</td>\n",
       "      <td>...</td>\n",
       "      <td>...</td>\n",
       "      <td>...</td>\n",
       "    </tr>\n",
       "    <tr>\n",
       "      <th>995</th>\n",
       "      <td>58</td>\n",
       "      <td>22</td>\n",
       "      <td>6</td>\n",
       "      <td>321.0</td>\n",
       "    </tr>\n",
       "    <tr>\n",
       "      <th>996</th>\n",
       "      <td>3</td>\n",
       "      <td>59</td>\n",
       "      <td>37</td>\n",
       "      <td>28.0</td>\n",
       "    </tr>\n",
       "    <tr>\n",
       "      <th>997</th>\n",
       "      <td>24</td>\n",
       "      <td>14</td>\n",
       "      <td>14</td>\n",
       "      <td>113.0</td>\n",
       "    </tr>\n",
       "    <tr>\n",
       "      <th>998</th>\n",
       "      <td>52</td>\n",
       "      <td>50</td>\n",
       "      <td>16</td>\n",
       "      <td>317.0</td>\n",
       "    </tr>\n",
       "    <tr>\n",
       "      <th>999</th>\n",
       "      <td>47</td>\n",
       "      <td>8</td>\n",
       "      <td>24</td>\n",
       "      <td>184.0</td>\n",
       "    </tr>\n",
       "  </tbody>\n",
       "</table>\n",
       "<p>1000 rows × 4 columns</p>\n",
       "</div>"
      ],
      "text/plain": [
       "     x_col1  x_col2  x_col3  y_col\n",
       "0        31       0      49   16.0\n",
       "1        33       6      32   85.0\n",
       "2        50      37      47  188.0\n",
       "3        30      38      36  125.0\n",
       "4        26       2       4  129.0\n",
       "..      ...     ...     ...    ...\n",
       "995      58      22       6  321.0\n",
       "996       3      59      37   28.0\n",
       "997      24      14      14  113.0\n",
       "998      52      50      16  317.0\n",
       "999      47       8      24  184.0\n",
       "\n",
       "[1000 rows x 4 columns]"
      ]
     },
     "execution_count": 2,
     "metadata": {},
     "output_type": "execute_result"
    }
   ],
   "source": [
    "n_rows = 1000\n",
    "df = pd.DataFrame()\n",
    "df['x_col1'] = np.random.randint(0,60,n_rows)\n",
    "df['x_col2'] = np.random.randint(0,60,n_rows)\n",
    "df['x_col3'] = np.random.randint(0,60,n_rows)\n",
    "# df['x_intercept'] = np.ones(100)\n",
    "\n",
    "df['y_col'] = np.round(5*df['x_col1'] + 2*df['x_col2'] - 3*df['x_col3'] + 6 + np.random.randn(n_rows))\n",
    "df"
   ]
  },
  {
   "cell_type": "markdown",
   "id": "335b1654",
   "metadata": {},
   "source": [
    "### y variable against each of x variables"
   ]
  },
  {
   "cell_type": "code",
   "execution_count": 3,
   "id": "5fc48557",
   "metadata": {},
   "outputs": [
    {
     "data": {
      "text/plain": [
       "<matplotlib.collections.PathCollection at 0x13d624cbca0>"
      ]
     },
     "execution_count": 3,
     "metadata": {},
     "output_type": "execute_result"
    },
    {
     "data": {
      "image/png": "[encoded data removed]",
      "text/plain": [
       "<Figure size 432x288 with 1 Axes>"
      ]
     },
     "metadata": {
      "needs_background": "light"
     },
     "output_type": "display_data"
    }
   ],
   "source": [
    "plt.scatter(df['x_col1'], df['y_col'])"
   ]
  },
  {
   "cell_type": "code",
   "execution_count": 4,
   "id": "be3c937d",
   "metadata": {},
   "outputs": [
    {
     "data": {
      "text/plain": [
       "<matplotlib.collections.PathCollection at 0x13d635aa550>"
      ]
     },
     "execution_count": 4,
     "metadata": {},
     "output_type": "execute_result"
    },
    {
     "data": {
      "image/png": "[encoded data removed]",
      "text/plain": [
       "<Figure size 432x288 with 1 Axes>"
      ]
     },
     "metadata": {
      "needs_background": "light"
     },
     "output_type": "display_data"
    }
   ],
   "source": [
    "plt.scatter(df['x_col2'], df['y_col'])"
   ]
  },
  {
   "cell_type": "code",
   "execution_count": 5,
   "id": "30f84a86",
   "metadata": {},
   "outputs": [
    {
     "data": {
      "text/plain": [
       "<matplotlib.collections.PathCollection at 0x13d6361b5b0>"
      ]
     },
     "execution_count": 5,
     "metadata": {},
     "output_type": "execute_result"
    },
    {
     "data": {
      "image/png": "[encoded data removed]",
      "text/plain": [
       "<Figure size 432x288 with 1 Axes>"
      ]
     },
     "metadata": {
      "needs_background": "light"
     },
     "output_type": "display_data"
    }
   ],
   "source": [
    "plt.scatter(df['x_col3'], df['y_col'])"
   ]
  },
  {
   "cell_type": "markdown",
   "id": "5e156fd0",
   "metadata": {},
   "source": [
    "### Linear Correlations"
   ]
  },
  {
   "cell_type": "code",
   "execution_count": 6,
   "id": "69dba9d5",
   "metadata": {},
   "outputs": [
    {
     "data": {
      "text/plain": [
       "0.8050063251450487"
      ]
     },
     "execution_count": 6,
     "metadata": {},
     "output_type": "execute_result"
    }
   ],
   "source": [
    "cov1 = np.cov(df['x_col1'], df['y_col'])\n",
    "corr1 = cov1[0][1]/np.sqrt(cov1[0][0]*cov1[1][1])\n",
    "corr1"
   ]
  },
  {
   "cell_type": "code",
   "execution_count": 7,
   "id": "c37f45c0",
   "metadata": {},
   "outputs": [
    {
     "data": {
      "text/plain": [
       "0.2815502471449196"
      ]
     },
     "execution_count": 7,
     "metadata": {},
     "output_type": "execute_result"
    }
   ],
   "source": [
    "cov2 = np.cov(df['x_col2'], df['y_col'])\n",
    "corr2 = cov2[0][1]/np.sqrt(cov2[0][0]*cov2[1][1])\n",
    "corr2"
   ]
  },
  {
   "cell_type": "code",
   "execution_count": 8,
   "id": "49b5a001",
   "metadata": {
    "scrolled": true
   },
   "outputs": [
    {
     "data": {
      "text/plain": [
       "-0.4964932802257122"
      ]
     },
     "execution_count": 8,
     "metadata": {},
     "output_type": "execute_result"
    }
   ],
   "source": [
    "cov3 = np.cov(df['x_col3'], df['y_col'])\n",
    "corr3 = cov3[0][1]/np.sqrt(cov3[0][0]*cov3[1][1])\n",
    "corr3"
   ]
  },
  {
   "cell_type": "markdown",
   "id": "8160f231",
   "metadata": {},
   "source": [
    "### Regression"
   ]
  },
  {
   "cell_type": "code",
   "execution_count": 15,
   "id": "ffeb96cc",
   "metadata": {},
   "outputs": [],
   "source": [
    "class StageWise_Forward():\n",
    "    def __init__(self, eps = 0.1, n_iters = 1000):\n",
    "        self.eps = eps\n",
    "        self.n_iters = n_iters\n",
    "        \n",
    "    def get_corr(self, x,y):\n",
    "        cov = np.cov(x, y)\n",
    "        corr = cov[0][1]/np.sqrt(cov[0][0]*cov[1][1])\n",
    "        return corr\n",
    "        \n",
    "    def start(self, X, y):\n",
    "        self.n_vars = X.shape[1]\n",
    "        self.beta = np.zeros(self.n_vars)\n",
    "        self.res = y\n",
    "        self.corr_dict = {x_col :0 for x_col in X.columns}\n",
    "        \n",
    "    def one_iter(self,X,y):\n",
    "        self.corr_dict = {x_col: self.get_corr(df[x_col], self.res) for x_col, y in self.corr_dict.items()} \n",
    "        # Find col with max abs correlation\n",
    "        iter_col = max(zip([np.abs(x) for x in self.corr_dict.values()], self.corr_dict.keys()))[1]\n",
    "        self.beta[int(iter_col[-1]) - 1] += self.eps*self.corr_dict[iter_col]\n",
    "        self.res = y - np.dot(X, self.beta)\n",
    "    \n",
    "    def regress(self,X,y):\n",
    "        self.start(X,y)\n",
    "        for i in range(self.n_iters):\n",
    "            self.one_iter(X,y)\n",
    "        self.intercept = (y-np.dot(X,sf.beta)).mean()\n",
    "        self.beta_dict = dict(zip(['intercept'] + list(self.corr_dict.keys()), np.round([self.intercept] + list(self.beta),2)))\n",
    "    \n",
    "    def __str__(self):\n",
    "        return \"Coefficients are %s \" % (self.beta_dict)"
   ]
  },
  {
   "cell_type": "code",
   "execution_count": 16,
   "id": "fcf538eb",
   "metadata": {
    "scrolled": true
   },
   "outputs": [],
   "source": [
    "X = df[['x_col1','x_col2','x_col3']]\n",
    "y = df['y_col']\n",
    "sf = StageWise_Forward(eps = 0.1, n_iters = 1000)\n",
    "sf.regress(X,y)"
   ]
  },
  {
   "cell_type": "code",
   "execution_count": 17,
   "id": "56804df5",
   "metadata": {},
   "outputs": [
    {
     "name": "stdout",
     "output_type": "stream",
     "text": [
      "Coefficients are {'intercept': 6.11, 'x_col1': 5.0, 'x_col2': 2.0, 'x_col3': -3.0} \n"
     ]
    }
   ],
   "source": [
    "print(sf)"
   ]
  }
 ],
 "metadata": {
  "kernelspec": {
   "display_name": "Python 3 (ipykernel)",
   "language": "python",
   "name": "python3"
  },
  "language_info": {
   "codemirror_mode": {
    "name": "ipython",
    "version": 3
   },
   "file_extension": ".py",
   "mimetype": "text/x-python",
   "name": "python",
   "nbconvert_exporter": "python",
   "pygments_lexer": "ipython3",
   "version": "3.9.12"
  }
 },
 "nbformat": 4,
 "nbformat_minor": 5
}
